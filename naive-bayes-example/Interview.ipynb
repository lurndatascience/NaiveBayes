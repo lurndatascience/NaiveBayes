{
 "cells": [
  {
   "cell_type": "markdown",
   "id": "54378926",
   "metadata": {},
   "source": [
    "# Interview"
   ]
  },
  {
   "cell_type": "code",
   "execution_count": null,
   "id": "6db7b7c5",
   "metadata": {},
   "outputs": [],
   "source": []
  }
 ],
 "metadata": {
  "kernelspec": {
   "display_name": "Python 3 (ipykernel)",
   "language": "python",
   "name": "python3"
  },
  "language_info": {
   "codemirror_mode": {
    "name": "ipython",
    "version": 3
   },
   "file_extension": ".py",
   "mimetype": "text/x-python",
   "name": "python",
   "nbconvert_exporter": "python",
   "pygments_lexer": "ipython3",
   "version": "3.9.7"
  }
 },
 "nbformat": 4,
 "nbformat_minor": 5
}
